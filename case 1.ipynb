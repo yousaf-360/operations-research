{
  "nbformat": 4,
  "nbformat_minor": 0,
  "metadata": {
    "colab": {
      "provenance": []
    },
    "kernelspec": {
      "name": "python3",
      "display_name": "Python 3"
    },
    "language_info": {
      "name": "python"
    }
  },
  "cells": [
    {
      "cell_type": "code",
      "source": [
        "!pip install pulp\n",
        "from pulp import *\n",
        "\n",
        "#-------Q1-----------\n",
        "\n",
        "# Create the problem\n",
        "prob = LpProblem(\"DeskProductionProblem\", LpMaximize)\n",
        "\n",
        "# Decision variables\n",
        "X1 = LpVariable(\"X1\", lowBound=0, cat='Integer')\n",
        "X2 = LpVariable(\"X2\", lowBound=0, cat='Integer')\n",
        "X3 = LpVariable(\"X3\", lowBound=0, cat='Integer')\n",
        "X4 = LpVariable(\"X4\", lowBound=0, cat='Integer')\n",
        "X5 = LpVariable(\"X5\", lowBound=0, cat='Integer')\n",
        "X6 = LpVariable(\"X6\", lowBound=0, cat='Integer')\n",
        "X7 = LpVariable(\"X7\", lowBound=0, cat='Integer')\n",
        "X8 = LpVariable(\"X8\", lowBound=0, cat='Integer')\n",
        "X9 = LpVariable(\"X9\", lowBound=0, cat='Integer')\n",
        "X10 = LpVariable(\"X10\", lowBound=0, cat='Integer')\n",
        "\n",
        "# Objective function\n",
        "prob += 25*X1 + 30*X2 + 40*X3 + 50*X4 + 80*X5 + 125*X6 + 100*X7 + 250*X8 + 350*X9\n",
        "\n",
        "# Constraints\n",
        "prob += X1 + X2 + X3 + X4 + X5 + X6 + X7 + X8 + X9 - X10 == 0\n",
        "prob += 15*X1 + 17*X2 + 19*X3 + 23*X4 + 28*X5 + 32*X6 + 76*X7 + 93*X8 + 110*X9 <= 230400\n",
        "prob += 14*X1 + 24*X2 + 30*X3 <= 50000\n",
        "prob += 8*X1 + 15*X2 + 24*X3 <= 30000\n",
        "prob += 22*X4 + 40*X5 + 55*X6 + 25*X7 + 45*X8 + 60*X9 <= 200000\n",
        "prob += 1.5*X1 + 2*X2 + 2.5*X3 <= 9600\n",
        "prob += X1 + X2 + X3 + X4 + X5 + X6 <= 9600\n",
        "prob += 3*X4 + 4*X5 + 5*X6 + 3*X7 + 4*X8 + 5*X9 <= 19200\n",
        "prob += X1 >= 750\n",
        "prob += X2 >= 900\n",
        "prob += X3 >= 100\n",
        "prob += X4 >= 400\n",
        "prob += X5 >= 800\n",
        "prob += X6 >= 100\n",
        "prob += X7 >= 25\n",
        "prob += X8 >= 150\n",
        "prob += X9 >= 50\n",
        "prob += X1 + X2 + X3 - 0.25*X10 >= 0\n",
        "prob += X4 + X5 + X6 - 0.35*X10 >= 0\n",
        "prob += X7 + X8 + X9 - 0.15*X10 >= 0\n",
        "prob += X1 + X4 + X7 - 0.20*X10 >= 0\n",
        "prob += X2 + X5 + X8 - 0.40*X10 >= 0\n",
        "prob += X3 + X6 + X9 - 0.10*X10 >= 0\n",
        "prob += X1 + X2 + X3 - 0.50*X10 <= 0\n",
        "prob += X4 + X5 + X6 - 0.55*X10 <= 0\n",
        "prob += X7 + X8 + X9 - 0.25*X10 <= 0\n",
        "prob += X1 + X4 + X7 - 0.40*X10 <= 0\n",
        "prob += X2 + X5 + X8 - 0.65*X10 <= 0\n",
        "prob += X3 + X6 + X9 - 0.25*X10 <= 0\n",
        "\n",
        "# Solve the problem\n",
        "prob.solve()\n",
        "\n",
        "# Print the solution status\n",
        "print(\"Status:\", LpStatus[prob.status])\n",
        "\n",
        "# Print the optimal values of the decision variables\n",
        "for variable in prob.variables():\n",
        "    print(variable.name, \"=\", variable.varValue)\n",
        "    \n",
        "# Print the optimal value of the objective function\n",
        "print(\"Optimal value:\", value(prob.objective))"
      ],
      "metadata": {
        "colab": {
          "base_uri": "https://localhost:8080/"
        },
        "id": "Oz-Nl4GVMudE",
        "outputId": "33e11227-20b8-4729-eeb3-faa317f38282"
      },
      "execution_count": 11,
      "outputs": [
        {
          "output_type": "stream",
          "name": "stdout",
          "text": [
            "Looking in indexes: https://pypi.org/simple, https://us-python.pkg.dev/colab-wheels/public/simple/\n",
            "Requirement already satisfied: pulp in /usr/local/lib/python3.10/dist-packages (2.7.0)\n",
            "Status: Optimal\n",
            "X1 = 818.0\n",
            "X10 = 6216.0\n",
            "X2 = 900.0\n",
            "X3 = 100.0\n",
            "X4 = 401.0\n",
            "X5 = 2368.0\n",
            "X6 = 646.0\n",
            "X7 = 25.0\n",
            "X8 = 150.0\n",
            "X9 = 808.0\n",
            "Optimal value: 664490.0\n"
          ]
        }
      ]
    }
  ]
}