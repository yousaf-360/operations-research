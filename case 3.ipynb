{
  "nbformat": 4,
  "nbformat_minor": 0,
  "metadata": {
    "colab": {
      "provenance": []
    },
    "kernelspec": {
      "name": "python3",
      "display_name": "Python 3"
    },
    "language_info": {
      "name": "python"
    }
  },
  "cells": [
    {
      "cell_type": "code",
      "source": [
        "!pip install pulp\n",
        "import pulp\n",
        "#--------Q3--------\n",
        "# Create the LP problem\n",
        "prob = pulp.LpProblem(\"FilmProduction\", pulp.LpMaximize)\n",
        "\n",
        "# Decision Variables\n",
        "films = range(1, 11)\n",
        "X = pulp.LpVariable.dicts(\"X\", films, cat=pulp.LpBinary)\n",
        "Y = pulp.LpVariable.dicts(\"Y\", films, cat=pulp.LpBinary)\n",
        "T = pulp.LpVariable(\"T\", lowBound=0, cat=pulp.LpInteger)\n",
        "\n",
        "# Objective Function\n",
        "prob += (0.4 * X[1] + 3 * X[2] - X[3] + 1.6 * X[4] + 8 * X[5] + 5 * X[6] + 0.6 * X[7] + 1.4 * X[9] + 3.6 * X[10]\n",
        "         - Y[1] + 5.8 * Y[3] + 2.8 * Y[4] + 3 * Y[5] + 2.4 * Y[6] - 1.4 * Y[7] - Y[8] + 9 * Y[9] + 11 * Y[10])\n",
        "\n",
        "# Constraints\n",
        "prob += sum(X[j] for j in films) + sum(Y[j] for j in films) == T\n",
        "prob += (5 * X[1] + 12 * X[2] + 8 * X[3] + 7 * X[4] + 15 * X[5] + 10 * X[6] + 4 * X[7] + 11 * X[8] + 20 * X[9] + 25 * X[10]\n",
        "         + 10 * Y[1] + 25 * Y[2] + 12 * Y[3] + 15 * Y[4] + 30 * Y[5] + 17 * Y[6] + 8 * Y[7] + 14 * Y[8] + 40 * Y[9] + 50 * Y[10]) <= 100\n",
        "prob += (sum(X[j] for j in films) + 3 * sum(Y[j] for j in films)) <= 15\n",
        "prob += (X[1] + X[3] + X[4] + X[5] + X[6] + X[8] + Y[1] + Y[3] + Y[4] + Y[5] + Y[6] + Y[8] - 0.5 * T) >= 0\n",
        "prob += (X[4] + X[6] + X[7] + X[8] + Y[4] + Y[6] + Y[7] + Y[8]) >= 2\n",
        "prob += (X[9] + X[10] + Y[9] + Y[10]) <= 1\n",
        "prob += (X[2] + X[4] + X[5] + Y[2] + Y[4] + Y[5]) >= 1\n",
        "prob += (sum(Y[j] for j in films)) >= 2\n",
        "prob += (X[3] + X[4] + X[6] + X[8] + Y[3] + Y[4] + Y[6] + Y[8]) >= 2\n",
        "prob += (Y[9] + Y[10]) >= 1\n",
        "prob += (X[1] + Y[1]) <= 1\n",
        "prob += (X[2] + Y[2]) <= 1\n",
        "prob += (X[3] + Y[3]) <= 1\n",
        "prob += (X[4] + Y[4]) <= 1\n",
        "prob += (X[5] + Y[5]) <= 1\n",
        "prob += (X[6] + Y[6]) <= 1\n",
        "prob += (X[7] + Y[7]) <= 1\n",
        "prob += (X[8] + Y[8]) <= 1\n",
        "prob += (X[9] + Y[9]) <= 1\n",
        "prob += (X[10] + Y[10]) <= 1\n",
        "\n",
        "# Solve the problem\n",
        "prob.solve()\n",
        "\n",
        "# Print the optimal solution\n",
        "print(\"Optimal Solution:\")\n",
        "for var in prob.variables():\n",
        "    print(f\"{var.name}: {var.value()}\")\n",
        "\n",
        "# Print the optimal objective value\n",
        "print(\"Optimal Objective Value:\")\n",
        "print(f\"${pulp.value(prob.objective)}\")\n",
        "\n",
        "#the above code give the answer 33 which means 33 million is the expected profit\n"
      ],
      "metadata": {
        "colab": {
          "base_uri": "https://localhost:8080/"
        },
        "id": "Oz-Nl4GVMudE",
        "outputId": "1a280ef4-c478-4721-e305-99d6c87e45b4"
      },
      "execution_count": 14,
      "outputs": [
        {
          "output_type": "stream",
          "name": "stdout",
          "text": [
            "Looking in indexes: https://pypi.org/simple, https://us-python.pkg.dev/colab-wheels/public/simple/\n",
            "Requirement already satisfied: pulp in /usr/local/lib/python3.10/dist-packages (2.7.0)\n",
            "Optimal Solution:\n",
            "T: 7.0\n",
            "X_1: 0.0\n",
            "X_10: 0.0\n",
            "X_2: 1.0\n",
            "X_3: 0.0\n",
            "X_4: 1.0\n",
            "X_5: 1.0\n",
            "X_6: 1.0\n",
            "X_7: 1.0\n",
            "X_8: 0.0\n",
            "X_9: 0.0\n",
            "Y_1: 0.0\n",
            "Y_10: 0.0\n",
            "Y_2: 0.0\n",
            "Y_3: 1.0\n",
            "Y_4: 0.0\n",
            "Y_5: 0.0\n",
            "Y_6: 0.0\n",
            "Y_7: 0.0\n",
            "Y_8: 0.0\n",
            "Y_9: 1.0\n",
            "Optimal Objective Value:\n",
            "$33.0\n"
          ]
        }
      ]
    }
  ]
}